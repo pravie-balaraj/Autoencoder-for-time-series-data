{
 "cells": [
  {
   "cell_type": "code",
   "execution_count": 118,
   "metadata": {},
   "outputs": [],
   "source": [
    "import numpy as np\n",
    "from torch.utils.data import Dataset, DataLoader\n",
    "from torchvision import transforms\n",
    "from sklearn.preprocessing import StandardScaler\n",
    "import torch\n",
    "import torch.optim as optim\n",
    "import matplotlib.pyplot as plt\n",
    "\n",
    "\n",
    "# This is for parsing the X data, you can ignore it if you do not need preprocessing\n",
    "def format_data_x(datafile):\n",
    "    x_data = None\n",
    "    for item in datafile:\n",
    "        item_data = np.loadtxt(item, dtype=np.float)\n",
    "        if x_data is None:\n",
    "            x_data = np.zeros((len(item_data), 1))\n",
    "        x_data = np.hstack((x_data, item_data))\n",
    "    x_data = x_data[:, 1:]\n",
    "    print(x_data.shape)\n",
    "    X = None\n",
    "    for i in range(len(x_data)):\n",
    "        row = np.asarray(x_data[i, :])\n",
    "        row = row.reshape(9, 128).T\n",
    "        if X is None:\n",
    "            X = np.zeros((len(x_data), 128, 9))\n",
    "        X[i] = row\n",
    "    print(X.shape)\n",
    "    return X\n",
    "\n",
    "\n",
    "# This is for parsing the Y data, you can ignore it if you do not need preprocessing\n",
    "#def format_data_y(datafile):\n",
    "    #data = np.loadtxt(datafile, dtype=np.int) - 1\n",
    "    #YY = np.eye(6)[data]\n",
    "    #return YY\n",
    "\n",
    "\n",
    "# Load data function, if there exists parsed data file, then use it\n",
    "# If not, parse the original dataset from scratch\n",
    "def load_data():\n",
    "    str_folder = 'UCI HAR Dataset/'\n",
    "    INPUT_SIGNAL_TYPES = [\n",
    "            \"body_acc_x_\",\n",
    "            \"body_acc_y_\",\n",
    "            \"body_acc_z_\",\n",
    "            \"body_gyro_x_\",\n",
    "            \"body_gyro_y_\",\n",
    "            \"body_gyro_z_\",\n",
    "            \"total_acc_x_\",\n",
    "            \"total_acc_y_\",\n",
    "            \"total_acc_z_\"\n",
    "        ]\n",
    "\n",
    "    str_train_files = [str_folder + 'train/' + 'Inertial Signals/' + item + 'train.txt' for item in\n",
    "                           INPUT_SIGNAL_TYPES]\n",
    "    str_test_files = [str_folder + 'test/' + 'Inertial Signals/' +\n",
    "                          item + 'test.txt' for item in INPUT_SIGNAL_TYPES]\n",
    "        \n",
    "\n",
    "    X_train = format_data_x(str_train_files)\n",
    "    X_test = format_data_x(str_test_files)\n",
    "       \n",
    "\n",
    "    return X_train,  X_test\n"
   ]
  },
  {
   "cell_type": "code",
   "execution_count": 119,
   "metadata": {},
   "outputs": [],
   "source": [
    "class data_loader(Dataset):\n",
    "    def __init__(self, samples, t):\n",
    "        self.samples = samples\n",
    "        self.T = t\n",
    "\n",
    "    def __getitem__(self, index):\n",
    "        sample = self.samples[index]\n",
    "        if self.T:\n",
    "            return self.T(sample)\n",
    "        else:\n",
    "            return sample\n",
    "\n",
    "    def __len__(self):\n",
    "        return len(self.samples)\n",
    "\n",
    "\n",
    "def normalize(x):\n",
    "    #x_min = x.min(axis=(0, 2, 3), keepdims=True)\n",
    "    #x_max = x.max(axis=(0, 2, 3), keepdims=True)\n",
    "    x_min = x.min()#axis=(0,1), keepdims=True)\n",
    "    x_max = x.max()#axis=(0,1), keepdims=True)\n",
    "    x_norm = (x - x_min) / (x_max - x_min)\n",
    "    return x_norm\n",
    "\n",
    "\n",
    "def load(batch_size=64):\n",
    "    x_train, x_test = load_data()\n",
    "    x_train = normalize(x_train)\n",
    "    x_test = normalize(x_test)\n",
    "    \n",
    "    x_train, x_test = x_train.reshape(\n",
    "        (-1, 9, 1, 128)), x_test.reshape((-1, 9, 1, 128))\n",
    "    transform = None\n",
    "    \n",
    "    train_set = data_loader(x_train, transform)\n",
    "    test_set = data_loader(x_test, transform)\n",
    "    \n",
    "    train_loader = DataLoader(\n",
    "        train_set, batch_size=batch_size, shuffle=False, drop_last=False)\n",
    "    test_loader = DataLoader(test_set, batch_size=batch_size, shuffle=False)\n",
    "    return train_loader, test_loader"
   ]
  },
  {
   "cell_type": "code",
   "execution_count": 120,
   "metadata": {},
   "outputs": [],
   "source": [
    "import torch.nn as nn\n",
    "import torch.nn.functional as F \n",
    "\n",
    "class AE(nn.Module):\n",
    "    def __init__(self):\n",
    "        super().__init__()\n",
    "        self.conv1 = nn.Conv2d(in_channels=9, out_channels=32, kernel_size=(1, 9))\n",
    "        self.conv2 = nn.Conv2d(in_channels=32, out_channels=9, kernel_size=(1, 9))\n",
    "        #self.conv3 = nn.Conv2d(in_channels=64, out_channels=10, kernel_size=(1, 9))\n",
    "        #self.pool = nn.MaxPool2d(1, 2)\n",
    "        #self.linear = nn.Linear(in_features = 9*128, out_features = 9*100)\n",
    "        #self.linear2 = nn.Linear(in_features = 9*100, out_features = 9*128)\n",
    "        self.t_conv1 = nn.ConvTranspose2d(in_channels=9, out_channels=32, kernel_size=(1, 9), stride=1)\n",
    "        self.t_conv2 = nn.ConvTranspose2d(in_channels=32, out_channels=9, kernel_size=(1, 9), stride=1)\n",
    "        #self.t_conv3 = nn.ConvTranspose2d(in_channels=32, out_channels=9, kernel_size=(1, 9), stride=1)\n",
    "        \n",
    "    def encode(self, xb):\n",
    "        xb = F.relu(self.conv1(xb))\n",
    "        #xb = self.pool(xb)\n",
    "        xb = F.relu(self.conv2(xb))\n",
    "        #xb = self.pool(xb)\n",
    "        #xb = F.tanh(self.conv3(xb))\n",
    "        #xb = self.pool(xb)\n",
    "        #xb = xb.reshape(-1, 9*128)\n",
    "        return xb#, F.relu(self.linear(xb))\n",
    "\n",
    "    def reparametrize(self, mu, logvar):\n",
    "        std = logvar.mul(0.5).exp_()\n",
    "        if torch.cuda.is_available():\n",
    "            eps = torch.cuda.FloatTensor(std.size()).normal_()\n",
    "        else:\n",
    "            eps = torch.FloatTensor(std.size()).normal_()\n",
    "        eps = torch.autograd.Variable(eps)\n",
    "        return eps.mul(std).add_(mu)\n",
    "\n",
    "    def decode(self, z):\n",
    "        #z = F.relu(self.linear2(z))\n",
    "        #z = z.reshape(-1, 128, 1, 9)\n",
    "        z = F.relu(self.t_conv1(z))\n",
    "        #z = F.tanh(self.t_conv2(z))\n",
    "        \n",
    "        return F.sigmoid(self.t_conv2(z))\n",
    "    \n",
    "    def forward(self, xb):\n",
    "        z = self.encode(xb)\n",
    "       # z = self.reparametrize(mu, var)\n",
    "        xb = self.decode(z)\n",
    "        return xb#, mu, var"
   ]
  },
  {
   "cell_type": "code",
   "execution_count": 121,
   "metadata": {},
   "outputs": [],
   "source": [
    "model = AE()\n",
    "model = model.float()\n",
    "if torch.cuda.is_available():\n",
    "    model.cuda()\n",
    "\n",
    "reconstruction_function = nn.MSELoss()\n",
    "\n",
    "\n",
    "def loss_function(recon_x, x, mu=None, logvar=None):\n",
    "    \"\"\"\n",
    "    recon_x: generating images\n",
    "    x: origin images\n",
    "    mu: latent mean\n",
    "    logvar: latent log variance\n",
    "    \"\"\"\n",
    "    BCE = reconstruction_function(recon_x, x)  # mse loss\n",
    "    # loss = 0.5 * sum(1 + log(sigma^2) - mu^2 - sigma^2)\n",
    "    #KLD_element = mu.pow(2).add_(logvar.exp()).mul_(-1).add_(1).add_(logvar)\n",
    "    #KLD = torch.sum(KLD_element).mul_(-0.5)\n",
    "    # KL divergence\n",
    "   # print(\"BCE:\", BCE, \"\\t KLD:\", KLD)\n",
    "    return BCE\n"
   ]
  },
  {
   "cell_type": "code",
   "execution_count": 122,
   "metadata": {},
   "outputs": [
    {
     "name": "stdout",
     "output_type": "stream",
     "text": [
      "(7352, 1152)\n",
      "(7352, 128, 9)\n",
      "(2947, 1152)\n",
      "(2947, 128, 9)\n"
     ]
    }
   ],
   "source": [
    "train_loader, test_loader = load()"
   ]
  },
  {
   "cell_type": "code",
   "execution_count": 123,
   "metadata": {
    "scrolled": true
   },
   "outputs": [
    {
     "name": "stdout",
     "output_type": "stream",
     "text": [
      "====> Epoch: 0 train loss: 0.0626 val loss: 0.0951\n",
      "====> Epoch: 1 train loss: 0.0290 val loss: 0.0809\n",
      "====> Epoch: 2 train loss: 0.0275 val loss: 0.0780\n",
      "====> Epoch: 3 train loss: 0.0267 val loss: 0.0751\n",
      "====> Epoch: 4 train loss: 0.0261 val loss: 0.0725\n",
      "====> Epoch: 5 train loss: 0.0255 val loss: 0.0705\n",
      "====> Epoch: 6 train loss: 0.0249 val loss: 0.0685\n",
      "====> Epoch: 7 train loss: 0.0240 val loss: 0.0660\n",
      "====> Epoch: 8 train loss: 0.0232 val loss: 0.0640\n",
      "====> Epoch: 9 train loss: 0.0224 val loss: 0.0620\n",
      "====> Epoch: 10 train loss: 0.0215 val loss: 0.0599\n",
      "====> Epoch: 11 train loss: 0.0206 val loss: 0.0580\n",
      "====> Epoch: 12 train loss: 0.0198 val loss: 0.0563\n",
      "====> Epoch: 13 train loss: 0.0193 val loss: 0.0549\n",
      "====> Epoch: 14 train loss: 0.0187 val loss: 0.0541\n",
      "====> Epoch: 15 train loss: 0.0184 val loss: 0.0532\n",
      "====> Epoch: 16 train loss: 0.0179 val loss: 0.0522\n",
      "====> Epoch: 17 train loss: 0.0175 val loss: 0.0512\n",
      "====> Epoch: 18 train loss: 0.0171 val loss: 0.0502\n",
      "====> Epoch: 19 train loss: 0.0166 val loss: 0.0495\n",
      "====> Epoch: 20 train loss: 0.0163 val loss: 0.0486\n",
      "====> Epoch: 21 train loss: 0.0159 val loss: 0.0479\n",
      "====> Epoch: 22 train loss: 0.0156 val loss: 0.0474\n",
      "====> Epoch: 23 train loss: 0.0154 val loss: 0.0471\n",
      "====> Epoch: 24 train loss: 0.0152 val loss: 0.0466\n",
      "====> Epoch: 25 train loss: 0.0150 val loss: 0.0462\n",
      "====> Epoch: 26 train loss: 0.0148 val loss: 0.0461\n",
      "====> Epoch: 27 train loss: 0.0146 val loss: 0.0458\n",
      "====> Epoch: 28 train loss: 0.0145 val loss: 0.0455\n",
      "====> Epoch: 29 train loss: 0.0143 val loss: 0.0451\n",
      "====> Epoch: 30 train loss: 0.0141 val loss: 0.0449\n",
      "====> Epoch: 31 train loss: 0.0139 val loss: 0.0442\n",
      "====> Epoch: 32 train loss: 0.0138 val loss: 0.0437\n",
      "====> Epoch: 33 train loss: 0.0136 val loss: 0.0433\n",
      "====> Epoch: 34 train loss: 0.0134 val loss: 0.0427\n",
      "====> Epoch: 35 train loss: 0.0131 val loss: 0.0420\n",
      "====> Epoch: 36 train loss: 0.0129 val loss: 0.0412\n",
      "====> Epoch: 37 train loss: 0.0126 val loss: 0.0405\n",
      "====> Epoch: 38 train loss: 0.0124 val loss: 0.0399\n",
      "====> Epoch: 39 train loss: 0.0122 val loss: 0.0393\n",
      "====> Epoch: 40 train loss: 0.0120 val loss: 0.0388\n",
      "====> Epoch: 41 train loss: 0.0118 val loss: 0.0382\n",
      "====> Epoch: 42 train loss: 0.0117 val loss: 0.0379\n",
      "====> Epoch: 43 train loss: 0.0116 val loss: 0.0375\n",
      "====> Epoch: 44 train loss: 0.0115 val loss: 0.0374\n",
      "====> Epoch: 45 train loss: 0.0114 val loss: 0.0372\n",
      "====> Epoch: 46 train loss: 0.0113 val loss: 0.0369\n",
      "====> Epoch: 47 train loss: 0.0112 val loss: 0.0367\n",
      "====> Epoch: 48 train loss: 0.0111 val loss: 0.0365\n",
      "====> Epoch: 49 train loss: 0.0110 val loss: 0.0364\n",
      "====> Epoch: 50 train loss: 0.0109 val loss: 0.0363\n",
      "====> Epoch: 51 train loss: 0.0109 val loss: 0.0358\n",
      "====> Epoch: 52 train loss: 0.0108 val loss: 0.0356\n",
      "====> Epoch: 53 train loss: 0.0107 val loss: 0.0359\n",
      "====> Epoch: 54 train loss: 0.0106 val loss: 0.0356\n",
      "====> Epoch: 55 train loss: 0.0106 val loss: 0.0352\n",
      "====> Epoch: 56 train loss: 0.0104 val loss: 0.0350\n",
      "====> Epoch: 57 train loss: 0.0103 val loss: 0.0347\n",
      "====> Epoch: 58 train loss: 0.0102 val loss: 0.0337\n",
      "====> Epoch: 59 train loss: 0.0100 val loss: 0.0341\n",
      "====> Epoch: 60 train loss: 0.0099 val loss: 0.0328\n",
      "====> Epoch: 61 train loss: 0.0097 val loss: 0.0333\n",
      "====> Epoch: 62 train loss: 0.0096 val loss: 0.0320\n",
      "====> Epoch: 63 train loss: 0.0095 val loss: 0.0328\n",
      "====> Epoch: 64 train loss: 0.0094 val loss: 0.0314\n",
      "====> Epoch: 65 train loss: 0.0093 val loss: 0.0322\n",
      "====> Epoch: 66 train loss: 0.0093 val loss: 0.0313\n",
      "====> Epoch: 67 train loss: 0.0092 val loss: 0.0319\n",
      "====> Epoch: 68 train loss: 0.0092 val loss: 0.0314\n",
      "====> Epoch: 69 train loss: 0.0091 val loss: 0.0314\n",
      "====> Epoch: 70 train loss: 0.0091 val loss: 0.0314\n",
      "====> Epoch: 71 train loss: 0.0091 val loss: 0.0313\n",
      "====> Epoch: 72 train loss: 0.0090 val loss: 0.0311\n",
      "====> Epoch: 73 train loss: 0.0090 val loss: 0.0315\n",
      "====> Epoch: 74 train loss: 0.0090 val loss: 0.0311\n",
      "====> Epoch: 75 train loss: 0.0089 val loss: 0.0309\n",
      "====> Epoch: 76 train loss: 0.0089 val loss: 0.0310\n",
      "====> Epoch: 77 train loss: 0.0089 val loss: 0.0309\n",
      "====> Epoch: 78 train loss: 0.0088 val loss: 0.0303\n",
      "====> Epoch: 79 train loss: 0.0088 val loss: 0.0308\n",
      "====> Epoch: 80 train loss: 0.0088 val loss: 0.0307\n"
     ]
    },
    {
     "ename": "KeyboardInterrupt",
     "evalue": "",
     "output_type": "error",
     "traceback": [
      "\u001b[1;31m---------------------------------------------------------------------------\u001b[0m",
      "\u001b[1;31mKeyboardInterrupt\u001b[0m                         Traceback (most recent call last)",
      "\u001b[1;32m<ipython-input-123-12bc6718144e>\u001b[0m in \u001b[0;36m<module>\u001b[1;34m\u001b[0m\n\u001b[0;32m      9\u001b[0m         \u001b[0mrecon_data\u001b[0m \u001b[1;33m=\u001b[0m \u001b[0mmodel\u001b[0m\u001b[1;33m(\u001b[0m\u001b[0mdata\u001b[0m\u001b[1;33m.\u001b[0m\u001b[0mfloat\u001b[0m\u001b[1;33m(\u001b[0m\u001b[1;33m)\u001b[0m\u001b[1;33m)\u001b[0m\u001b[1;33m\u001b[0m\u001b[1;33m\u001b[0m\u001b[0m\n\u001b[0;32m     10\u001b[0m         \u001b[0mloss\u001b[0m \u001b[1;33m=\u001b[0m \u001b[0mloss_function\u001b[0m\u001b[1;33m(\u001b[0m\u001b[0mrecon_data\u001b[0m\u001b[1;33m,\u001b[0m \u001b[0mdata\u001b[0m\u001b[1;33m.\u001b[0m\u001b[0mfloat\u001b[0m\u001b[1;33m(\u001b[0m\u001b[1;33m)\u001b[0m\u001b[1;33m)\u001b[0m\u001b[1;31m#, mu)#, logvar)\u001b[0m\u001b[1;33m\u001b[0m\u001b[1;33m\u001b[0m\u001b[0m\n\u001b[1;32m---> 11\u001b[1;33m         \u001b[0mloss\u001b[0m\u001b[1;33m.\u001b[0m\u001b[0mbackward\u001b[0m\u001b[1;33m(\u001b[0m\u001b[1;33m)\u001b[0m\u001b[1;33m\u001b[0m\u001b[1;33m\u001b[0m\u001b[0m\n\u001b[0m\u001b[0;32m     12\u001b[0m         \u001b[0mtrain_loss\u001b[0m \u001b[1;33m+=\u001b[0m \u001b[0mloss\u001b[0m\u001b[1;33m.\u001b[0m\u001b[0mitem\u001b[0m\u001b[1;33m(\u001b[0m\u001b[1;33m)\u001b[0m\u001b[1;33m*\u001b[0m\u001b[0mdata\u001b[0m\u001b[1;33m.\u001b[0m\u001b[0msize\u001b[0m\u001b[1;33m(\u001b[0m\u001b[1;36m0\u001b[0m\u001b[1;33m)\u001b[0m\u001b[1;33m\u001b[0m\u001b[1;33m\u001b[0m\u001b[0m\n\u001b[0;32m     13\u001b[0m         \u001b[0moptimizer\u001b[0m\u001b[1;33m.\u001b[0m\u001b[0mstep\u001b[0m\u001b[1;33m(\u001b[0m\u001b[1;33m)\u001b[0m\u001b[1;33m\u001b[0m\u001b[1;33m\u001b[0m\u001b[0m\n",
      "\u001b[1;32mC:\\programs\\Anaconda3\\lib\\site-packages\\torch\\tensor.py\u001b[0m in \u001b[0;36mbackward\u001b[1;34m(self, gradient, retain_graph, create_graph)\u001b[0m\n\u001b[0;32m    105\u001b[0m                 \u001b[0mproducts\u001b[0m\u001b[1;33m.\u001b[0m \u001b[0mDefaults\u001b[0m \u001b[0mto\u001b[0m\u001b[0;31m \u001b[0m\u001b[0;31m`\u001b[0m\u001b[0;31m`\u001b[0m\u001b[1;32mFalse\u001b[0m\u001b[0;31m`\u001b[0m\u001b[0;31m`\u001b[0m\u001b[1;33m.\u001b[0m\u001b[1;33m\u001b[0m\u001b[1;33m\u001b[0m\u001b[0m\n\u001b[0;32m    106\u001b[0m         \"\"\"\n\u001b[1;32m--> 107\u001b[1;33m         \u001b[0mtorch\u001b[0m\u001b[1;33m.\u001b[0m\u001b[0mautograd\u001b[0m\u001b[1;33m.\u001b[0m\u001b[0mbackward\u001b[0m\u001b[1;33m(\u001b[0m\u001b[0mself\u001b[0m\u001b[1;33m,\u001b[0m \u001b[0mgradient\u001b[0m\u001b[1;33m,\u001b[0m \u001b[0mretain_graph\u001b[0m\u001b[1;33m,\u001b[0m \u001b[0mcreate_graph\u001b[0m\u001b[1;33m)\u001b[0m\u001b[1;33m\u001b[0m\u001b[1;33m\u001b[0m\u001b[0m\n\u001b[0m\u001b[0;32m    108\u001b[0m \u001b[1;33m\u001b[0m\u001b[0m\n\u001b[0;32m    109\u001b[0m     \u001b[1;32mdef\u001b[0m \u001b[0mregister_hook\u001b[0m\u001b[1;33m(\u001b[0m\u001b[0mself\u001b[0m\u001b[1;33m,\u001b[0m \u001b[0mhook\u001b[0m\u001b[1;33m)\u001b[0m\u001b[1;33m:\u001b[0m\u001b[1;33m\u001b[0m\u001b[1;33m\u001b[0m\u001b[0m\n",
      "\u001b[1;32mC:\\programs\\Anaconda3\\lib\\site-packages\\torch\\autograd\\__init__.py\u001b[0m in \u001b[0;36mbackward\u001b[1;34m(tensors, grad_tensors, retain_graph, create_graph, grad_variables)\u001b[0m\n\u001b[0;32m     91\u001b[0m     Variable._execution_engine.run_backward(\n\u001b[0;32m     92\u001b[0m         \u001b[0mtensors\u001b[0m\u001b[1;33m,\u001b[0m \u001b[0mgrad_tensors\u001b[0m\u001b[1;33m,\u001b[0m \u001b[0mretain_graph\u001b[0m\u001b[1;33m,\u001b[0m \u001b[0mcreate_graph\u001b[0m\u001b[1;33m,\u001b[0m\u001b[1;33m\u001b[0m\u001b[1;33m\u001b[0m\u001b[0m\n\u001b[1;32m---> 93\u001b[1;33m         allow_unreachable=True)  # allow_unreachable flag\n\u001b[0m\u001b[0;32m     94\u001b[0m \u001b[1;33m\u001b[0m\u001b[0m\n\u001b[0;32m     95\u001b[0m \u001b[1;33m\u001b[0m\u001b[0m\n",
      "\u001b[1;31mKeyboardInterrupt\u001b[0m: "
     ]
    }
   ],
   "source": [
    "optimizer = optim.RMSprop(params=model.parameters(), lr=0.0005)#, momentum=0.9)\n",
    "num_epochs = 200\n",
    "for epoch in range(num_epochs):\n",
    "    model.train()\n",
    "    train_loss = 0\n",
    "    for batch_idx, data in enumerate(train_loader):\n",
    "        optimizer.zero_grad()\n",
    "        #print(len(data))\n",
    "        recon_data = model(data.float())\n",
    "        loss = loss_function(recon_data, data.float())#, mu)#, logvar)\n",
    "        loss.backward()\n",
    "        train_loss += loss.item()*data.size(0)\n",
    "        optimizer.step()\n",
    "    #print(train_loss) \n",
    "    model.eval()\n",
    "    total_val_loss = 0\n",
    "    for val_data in test_loader:\n",
    "        val = model(val_data.float()) \n",
    "        loss_val = loss_function(val, val_data.float())\n",
    "        total_val_loss += loss_val.item()*val_data.size(0)\n",
    "    #print(total_val_loss) \n",
    "    \n",
    "    print('====> Epoch: {} train loss: {:.4f} val loss: {:.4f}'.format(\n",
    "        epoch, train_loss / len(train_loader), total_val_loss / len(test_loader)))\n",
    "    \n",
    "\n",
    "#torch.save(model.state_dict(), './vae.pth')"
   ]
  },
  {
   "cell_type": "code",
   "execution_count": 165,
   "metadata": {
    "scrolled": true
   },
   "outputs": [
    {
     "name": "stdout",
     "output_type": "stream",
     "text": [
      "torch.Size([64, 9, 1, 128])\n",
      "torch.Size([64, 9, 1, 128])\n"
     ]
    },
    {
     "data": {
      "text/plain": [
       "[<matplotlib.lines.Line2D at 0x1d0914f20b8>]"
      ]
     },
     "execution_count": 165,
     "metadata": {},
     "output_type": "execute_result"
    },
    {
     "data": {
      "image/png": "[encoded data removed]",
      "text/plain": [
       "<Figure size 432x288 with 1 Axes>"
      ]
     },
     "metadata": {
      "needs_background": "light"
     },
     "output_type": "display_data"
    }
   ],
   "source": [
    "model.eval()\n",
    "\n",
    "for batch_idx, data in enumerate(test_loader):\n",
    "        \n",
    "        recon_data = model(data.float()) \n",
    "        break\n",
    "        \n",
    "print(data.shape)\n",
    "print(recon_data.shape)\n",
    "plt.plot(data.detach().numpy()[0,5,0,:])\n",
    "#plt.plot(np.hstack((data.detach().numpy()[0,7,0,:], data.detach().numpy()[1,7,0,:])))"
   ]
  },
  {
   "cell_type": "code",
   "execution_count": 166,
   "metadata": {
    "scrolled": true
   },
   "outputs": [
    {
     "data": {
      "text/plain": [
       "[<matplotlib.lines.Line2D at 0x1d09154eb00>]"
      ]
     },
     "execution_count": 166,
     "metadata": {},
     "output_type": "execute_result"
    },
    {
     "data": {
      "image/png": "[encoded data removed]",
      "text/plain": [
       "<Figure size 432x288 with 1 Axes>"
      ]
     },
     "metadata": {
      "needs_background": "light"
     },
     "output_type": "display_data"
    }
   ],
   "source": [
    "plt.plot(recon_data.detach().numpy()[0,5,0,:])\n",
    "#plt.plot(np.hstack((recon_data.detach().numpy()[7,2,0,:], recon_data.detach().numpy()[8,2,0,:])))"
   ]
  }
 ],
 "metadata": {
  "kernelspec": {
   "display_name": "Python 3",
   "language": "python",
   "name": "python3"
  },
  "language_info": {
   "codemirror_mode": {
    "name": "ipython",
    "version": 3
   },
   "file_extension": ".py",
   "mimetype": "text/x-python",
   "name": "python",
   "nbconvert_exporter": "python",
   "pygments_lexer": "ipython3",
   "version": "3.7.3"
  }
 },
 "nbformat": 4,
 "nbformat_minor": 2
}
